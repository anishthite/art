{
 "cells": [
  {
   "cell_type": "markdown",
   "metadata": {},
   "source": [
    "# Begin Poly Art Algorithm: \n",
    "\n",
    "Written by: Anish Thite while procrastination"
   ]
  },
  {
   "cell_type": "code",
   "execution_count": 12,
   "metadata": {},
   "outputs": [],
   "source": [
    "import numpy as np\n",
    "import cv2\n",
    "import sys\n",
    "import numpy\n",
    "import random\n",
    "from tqdm import tqdm\n",
    "from sklearn.neighbors import NearestNeighbors\n",
    "numpy.set_printoptions(threshold=sys.maxsize)\n",
    "\n",
    "img = cv2.imread('gatech.jpg')"
   ]
  },
  {
   "cell_type": "code",
   "execution_count": 34,
   "metadata": {},
   "outputs": [
    {
     "name": "stdout",
     "output_type": "stream",
     "text": [
      "7776\n"
     ]
    }
   ],
   "source": [
    "#RUNTIME COUNTER: n \n",
    "MINDIM = min(img.shape[:-1])\n",
    "NUMVERTECES = (MINDIM**2) // 30\n",
    "#NUMVERTECES = 10\n",
    "print(NUMVERTECES)"
   ]
  },
  {
   "cell_type": "code",
   "execution_count": 35,
   "metadata": {},
   "outputs": [],
   "source": [
    "def auto_canny(image, sigma=0.33):\n",
    "    # compute the median of the single channel pixel intensities\n",
    "    v = np.median(image)\n",
    "    # apply automatic Canny edge detection using the computed median\n",
    "    lower = int(max(0, (1.0 - sigma) * v))\n",
    "    upper = int(min(255, (1.0 + sigma) * v))\n",
    "    edged = cv2.Canny(image, lower, upper)\n",
    "    # return the edged image\n",
    "    return edged"
   ]
  },
  {
   "cell_type": "code",
   "execution_count": 36,
   "metadata": {},
   "outputs": [
    {
     "name": "stderr",
     "output_type": "stream",
     "text": [
      "100%|██████████| 7780/7780 [00:07<00:00, 1099.33it/s]\n"
     ]
    }
   ],
   "source": [
    "#Generate random points\n",
    "\n",
    "img = cv2.imread('gatech.jpg')\n",
    "img = cv2.resize(img,(MINDIM, MINDIM))\n",
    "points = []\n",
    "for _ in range(NUMVERTECES):\n",
    "    points.append(np.random.randint(1,MINDIM,(1, 2)).tolist()[0])\n",
    "corners = [[0,0],[0,MINDIM],[MINDIM,0],[MINDIM,MINDIM]]\n",
    "points += corners\n",
    "\n",
    "\n",
    "canny = auto_canny(img, sigma=0.1)\n",
    "\n",
    "\n",
    "# img_grey = cv2.cvtColor(img,cv2.COLOR_RGB2GRAY)\n",
    "# ret,thresh = cv2.threshold(img_grey,200,255,0)\n",
    "# contours, hierarchy = cv2.findContours(thresh, cv2.RETR_EXTERNAL, cv2.CHAIN_APPROX_TC89_L1)\n",
    "# cv2.drawContours(img, contours, -1, (0,255,0), 3)\n",
    "# points = contours\n",
    "#contours.reshape(-1,1)\n",
    "\n",
    "nn = NearestNeighbors(2).fit(points)\n",
    "n = nn.kneighbors(points, n_neighbors =5, return_distance=False)[:,1:]\n",
    "triangles = np.hstack((n, np.reshape(np.arange(len(points)), (len(points),1))))\n",
    "triangles = np.take(points, triangles, axis = 0)\n",
    "for x in tqdm(triangles):\n",
    "    #mean color\n",
    "    #print('here')\n",
    "    mask = np.zeros(img.shape, dtype=np.uint8)\n",
    "    channel_count = img.shape[2]  # i.e. 3 or 4 depending on your image\n",
    "    ignore_mask_color = (255,)*channel_count\n",
    "    cv2.fillConvexPoly(mask, np.int32([x]), ignore_mask_color)\n",
    "    masked_img = cv2.bitwise_and(img, mask)\n",
    "    \n",
    "    red = masked_img[:,:,0]\n",
    "    green = masked_img[:,:,1]\n",
    "    blue = masked_img[:,:,2]    \n",
    "    cv2.fillConvexPoly(img, np.int32([x]), color=(np.mean(red[red != 0]),np.mean(green[green != 0]),np.mean(blue[blue != 0])))\n",
    "\n",
    "    #cv2.polylines(img, np.int32([points]), isClosed=True, color=(0, 0, 255), thickness=1)\n",
    "\n",
    "cv2.namedWindow('image',cv2.WINDOW_NORMAL)\n",
    "cv2.resizeWindow('image', 600,600)\n",
    "cv2.imshow('image', img)\n",
    "cv2.waitKey()\n",
    "cv2.destroyAllWindows()"
   ]
  },
  {
   "cell_type": "code",
   "execution_count": null,
   "metadata": {},
   "outputs": [],
   "source": []
  },
  {
   "cell_type": "code",
   "execution_count": null,
   "metadata": {},
   "outputs": [],
   "source": [
    "#make matrix for triangles and cube to get triangles:\n",
    "graph = np.zeros((MINDIM, MINDIM))\n",
    "for point in points:\n",
    "    graph[point[0]][point[1]] = 1\n",
    "    \n",
    "np.dot(graph,(np.dot(graph,graph)))\n",
    "\n",
    "\n",
    "\n"
   ]
  },
  {
   "cell_type": "code",
   "execution_count": null,
   "metadata": {},
   "outputs": [],
   "source": []
  }
 ],
 "metadata": {
  "kernelspec": {
   "display_name": "Python 3",
   "language": "python",
   "name": "python3"
  },
  "language_info": {
   "codemirror_mode": {
    "name": "ipython",
    "version": 3
   },
   "file_extension": ".py",
   "mimetype": "text/x-python",
   "name": "python",
   "nbconvert_exporter": "python",
   "pygments_lexer": "ipython3",
   "version": "3.6.10"
  }
 },
 "nbformat": 4,
 "nbformat_minor": 2
}
